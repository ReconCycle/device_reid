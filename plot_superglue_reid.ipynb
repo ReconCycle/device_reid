{
 "cells": [
  {
   "cell_type": "code",
   "execution_count": 1,
   "metadata": {},
   "outputs": [
    {
     "name": "stdout",
     "output_type": "stream",
     "text": [
      "Jupyter environment detected. Enabling Open3D WebVisualizer.\n",
      "[Open3D INFO] WebRTC GUI backend enabled.\n",
      "[Open3D INFO] WebRTCWindowSystem: HTTP handshake server disabled.\n"
     ]
    }
   ],
   "source": [
    "%load_ext autoreload\n",
    "%autoreload 2\n",
    "\n",
    "import sys\n",
    "import os\n",
    "os.environ[\"CUDA_DEVICE_ORDER\"]=\"PCI_BUS_ID\"   # see issue #152\n",
    "os.environ[\"CUDA_VISIBLE_DEVICES\"]=\"0\" #! specify gpu here\n",
    "import numpy as np\n",
    "from rich import print\n",
    "import torch\n",
    "import cv2\n",
    "import matplotlib.pyplot as plt\n",
    "from torch import optim, nn\n",
    "import torchvision\n",
    "from torchvision.datasets import MNIST\n",
    "from torchvision import datasets, transforms\n",
    "import pytorch_lightning as pl\n",
    "from torchmetrics.classification import BinaryAccuracy\n",
    "import clip\n",
    "import exp_utils as exp_utils\n",
    "import albumentations as A\n",
    "from data_loader import DataLoader\n",
    "from data_loader_even_pairwise import DataLoaderEvenPairwise\n",
    "import albumentations as A\n",
    "from albumentations.pytorch import ToTensorV2\n",
    "from PIL import Image\n",
    "from IPython.display import display\n",
    "from main import _transform"
   ]
  },
  {
   "cell_type": "code",
   "execution_count": null,
   "metadata": {},
   "outputs": [],
   "source": []
  },
  {
   "cell_type": "code",
   "execution_count": 2,
   "metadata": {},
   "outputs": [
    {
     "data": {
      "text/html": [
       "<pre style=\"white-space:pre;overflow-x:auto;line-height:normal;font-family:Menlo,'DejaVu Sans Mono',consolas,'Courier New',monospace\">\n",
       "====================\n",
       "</pre>\n"
      ],
      "text/plain": [
       "\n",
       "====================\n"
      ]
     },
     "metadata": {},
     "output_type": "display_data"
    },
    {
     "data": {
      "text/html": [
       "<pre style=\"white-space:pre;overflow-x:auto;line-height:normal;font-family:Menlo,'DejaVu Sans Mono',consolas,'Courier New',monospace\">Imgs per class limited to <span style=\"color: #008080; text-decoration-color: #008080; font-weight: bold\">30</span>\n",
       "</pre>\n"
      ],
      "text/plain": [
       "Imgs per class limited to \u001b[1;36m30\u001b[0m\n"
      ]
     },
     "metadata": {},
     "output_type": "display_data"
    },
    {
     "data": {
      "text/html": [
       "<pre style=\"white-space:pre;overflow-x:auto;line-height:normal;font-family:Menlo,'DejaVu Sans Mono',consolas,'Courier New',monospace\">==================== \n",
       "\n",
       "</pre>\n"
      ],
      "text/plain": [
       "==================== \n",
       "\n"
      ]
     },
     "metadata": {},
     "output_type": "display_data"
    },
    {
     "data": {
      "text/html": [
       "<pre style=\"white-space:pre;overflow-x:auto;line-height:normal;font-family:Menlo,'DejaVu Sans Mono',consolas,'Courier New',monospace\">\n",
       "====================\n",
       "</pre>\n"
      ],
      "text/plain": [
       "\n",
       "====================\n"
      ]
     },
     "metadata": {},
     "output_type": "display_data"
    },
    {
     "data": {
      "text/html": [
       "<pre style=\"white-space:pre;overflow-x:auto;line-height:normal;font-family:Menlo,'DejaVu Sans Mono',consolas,'Courier New',monospace\">Imgs per class limited to <span style=\"color: #008080; text-decoration-color: #008080; font-weight: bold\">30</span>\n",
       "</pre>\n"
      ],
      "text/plain": [
       "Imgs per class limited to \u001b[1;36m30\u001b[0m\n"
      ]
     },
     "metadata": {},
     "output_type": "display_data"
    },
    {
     "data": {
      "text/html": [
       "<pre style=\"white-space:pre;overflow-x:auto;line-height:normal;font-family:Menlo,'DejaVu Sans Mono',consolas,'Courier New',monospace\">==================== \n",
       "\n",
       "</pre>\n"
      ],
      "text/plain": [
       "==================== \n",
       "\n"
      ]
     },
     "metadata": {},
     "output_type": "display_data"
    },
    {
     "data": {
      "text/html": [
       "<pre style=\"white-space:pre;overflow-x:auto;line-height:normal;font-family:Menlo,'DejaVu Sans Mono',consolas,'Courier New',monospace\">\n",
       "====================\n",
       "</pre>\n"
      ],
      "text/plain": [
       "\n",
       "====================\n"
      ]
     },
     "metadata": {},
     "output_type": "display_data"
    },
    {
     "data": {
      "text/html": [
       "<pre style=\"white-space:pre;overflow-x:auto;line-height:normal;font-family:Menlo,'DejaVu Sans Mono',consolas,'Courier New',monospace\">Imgs per class limited to <span style=\"color: #008080; text-decoration-color: #008080; font-weight: bold\">30</span>\n",
       "</pre>\n"
      ],
      "text/plain": [
       "Imgs per class limited to \u001b[1;36m30\u001b[0m\n"
      ]
     },
     "metadata": {},
     "output_type": "display_data"
    },
    {
     "data": {
      "text/html": [
       "<pre style=\"white-space:pre;overflow-x:auto;line-height:normal;font-family:Menlo,'DejaVu Sans Mono',consolas,'Courier New',monospace\">==================== \n",
       "\n",
       "</pre>\n"
      ],
      "text/plain": [
       "==================== \n",
       "\n"
      ]
     },
     "metadata": {},
     "output_type": "display_data"
    }
   ],
   "source": [
    "device = 'cuda' if torch.cuda.is_available() else 'cpu'\n",
    "\n",
    "\n",
    "# TODO: what does the CLIP encoder output?\n",
    "\n",
    "seen_classes = [\"hca_0\", \"hca_1\", \"hca_2\", \"hca_2a\", \"hca_3\", \"hca_4\", \"hca_5\", \"hca_6\"]\n",
    "unseen_classes = [\"hca_7\", \"hca_8\", \"hca_9\", \"hca_10\", \"hca_11\", \"hca_11a\", \"hca_12\"]\n",
    "\n",
    "img_path = \"datasets/2023-02-20_hca_backs\"\n",
    "preprocessing_path = \"datasets/2023-02-20_hca_backs_preprocessing_opencv\"\n",
    "\n",
    "                        \n",
    "# dl = DataLoader(img_path,\n",
    "#                         preprocessing_path=preprocessing_path,\n",
    "#                         batch_size=1,\n",
    "#                         seen_classes=seen_classes,\n",
    "#                         unseen_classes=unseen_classes,\n",
    "#                         train_transform=train_transform,\n",
    "#                         val_transform=val_transform,\n",
    "#                         cuda=True)\n",
    "\n",
    "val_transform = A.Compose([ToTensorV2()])\n",
    "train_transform = A.Compose([ToTensorV2()])\n",
    "\n",
    "dl = DataLoaderEvenPairwise(img_path,\n",
    "                            preprocessing_path=preprocessing_path,\n",
    "                            batch_size=1,\n",
    "                            num_workers=8,\n",
    "                            shuffle=True, #! usually True\n",
    "                            seen_classes=seen_classes,\n",
    "                            unseen_classes=unseen_classes,\n",
    "                            train_transform=train_transform,\n",
    "                            val_transform=val_transform)"
   ]
  },
  {
   "cell_type": "code",
   "execution_count": 3,
   "metadata": {},
   "outputs": [
    {
     "data": {
      "text/html": [
       "<pre style=\"white-space:pre;overflow-x:auto;line-height:normal;font-family:Menlo,'DejaVu Sans Mono',consolas,'Courier New',monospace\">curr_weights_path <span style=\"color: #800080; text-decoration-color: #800080\">/home/sruiz/projects/reconcycle/superglue_training/output/train/2023-11-18_</span>\n",
       "<span style=\"color: #800080; text-decoration-color: #800080\">superglue_model/weights/</span><span style=\"color: #ff00ff; text-decoration-color: #ff00ff\">best.pt</span>\n",
       "</pre>\n"
      ],
      "text/plain": [
       "curr_weights_path \u001b[35m/home/sruiz/projects/reconcycle/superglue_training/output/train/2023-11-18_\u001b[0m\n",
       "\u001b[35msuperglue_model/weights/\u001b[0m\u001b[95mbest.pt\u001b[0m\n"
      ]
     },
     "metadata": {},
     "output_type": "display_data"
    },
    {
     "name": "stdout",
     "output_type": "stream",
     "text": [
      "Loaded SuperPoint model\n",
      "Loaded SuperGlue model (\"/home/sruiz/projects/reconcycle/superglue_training/output/train/2023-11-18_superglue_model/weights/best.pt\" weights)\n"
     ]
    }
   ],
   "source": [
    "from object_reid_superglue import ObjectReIdSuperGlue\n",
    "\n",
    "#! WIP\n",
    "model = \"/home/sruiz/projects/reconcycle/superglue_training/output/train/2023-11-18_superglue_model/weights/best.pt\"\n",
    "# model = \"indoor\"\n",
    "object_reid_superglue = ObjectReIdSuperGlue(model)\n",
    "\n",
    "\n"
   ]
  },
  {
   "cell_type": "code",
   "execution_count": 4,
   "metadata": {},
   "outputs": [
    {
     "name": "stderr",
     "output_type": "stream",
     "text": [
      "/media/ssd2/sruiz/anaconda3/lib/python3.9/site-packages/torch/nn/functional.py:4227: UserWarning: Default grid_sample and affine_grid behavior has changed to align_corners=False since 1.3.0. Please specify align_corners=True if the old behavior is desired. See the documentation of grid_sample for details.\n",
      "  warnings.warn(\n"
     ]
    }
   ],
   "source": [
    "%matplotlib inline\n",
    "import matplotlib\n",
    "import matplotlib.pyplot as plt\n",
    "\n",
    "import seaborn as sns\n",
    "\n",
    "visualise = False\n",
    "debug = False\n",
    "\n",
    "min_matches = 10\n",
    "\n",
    "results = []\n",
    "batch_prediction = []\n",
    "for i, batch in enumerate(dl.dataloaders[\"seen_train\"]):\n",
    "    sample1, label1, dets1, sample2, label2, dets2 = batch\n",
    "    # print(\"sample1.shape\", sample1.shape)\n",
    "    # print(\"label1.shape\", label1.shape)\n",
    "    # print(\"sample2.shape\", sample2.shape)\n",
    "    # print(\"label2.shape\", label2.shape)\n",
    "\n",
    "    ground_truth = (label1 == label2).float()\n",
    "    ground_truth = torch.unsqueeze(ground_truth, 1)\n",
    "\n",
    "    for j in np.arange(len(sample1)):\n",
    "        img1 = exp_utils.torch_to_grayscale_np_img(sample1[j]).astype(np.float32)\n",
    "        img2 = exp_utils.torch_to_grayscale_np_img(sample2[j]).astype(np.float32)\n",
    "\n",
    "        affine_score, score_ratio, mconf, median_affine_error, len_matches, vis_out = object_reid_superglue.compare(img1, img2, gt=ground_truth[j], visualise=visualise, debug=debug)\n",
    "\n",
    "\n",
    "\n",
    "        result_bin = False\n",
    "        if len_matches >= min_matches:\n",
    "            result_bin = True\n",
    "\n",
    "        batch_prediction.append(result_bin)\n",
    "        correct_prediction = bool(result_bin == ground_truth[j])\n",
    "        if debug:\n",
    "            if correct_prediction:\n",
    "                print(\"[green]Correct prediction\")\n",
    "            else:\n",
    "                print(\"[red]wrong prediction\")\n",
    "\n",
    "        if visualise:\n",
    "            sns.histplot(mconf)\n",
    "            plt.show()\n",
    "\n",
    "        if visualise and vis_out is not None:            \n",
    "            display(Image.fromarray(vis_out))\n",
    "\n",
    "        results.append((affine_score, score_ratio, median_affine_error, result_bin, ground_truth[j], correct_prediction))\n",
    "        \n",
    "    if debug:\n",
    "        if i > 10:\n",
    "            break    "
   ]
  },
  {
   "cell_type": "code",
   "execution_count": 6,
   "metadata": {},
   "outputs": [
    {
     "data": {
      "text/html": [
       "<pre style=\"white-space:pre;overflow-x:auto;line-height:normal;font-family:Menlo,'DejaVu Sans Mono',consolas,'Courier New',monospace\">results <span style=\"font-weight: bold\">[</span><span style=\"color: #00ff00; text-decoration-color: #00ff00; font-style: italic\">True</span> <span style=\"color: #00ff00; text-decoration-color: #00ff00; font-style: italic\">True</span> <span style=\"color: #00ff00; text-decoration-color: #00ff00; font-style: italic\">True</span> <span style=\"color: #808000; text-decoration-color: #808000\">...</span> <span style=\"color: #00ff00; text-decoration-color: #00ff00; font-style: italic\">True</span> <span style=\"color: #00ff00; text-decoration-color: #00ff00; font-style: italic\">True</span> <span style=\"color: #ff0000; text-decoration-color: #ff0000; font-style: italic\">False</span><span style=\"font-weight: bold\">]</span>\n",
       "</pre>\n"
      ],
      "text/plain": [
       "results \u001b[1m[\u001b[0m\u001b[3;92mTrue\u001b[0m \u001b[3;92mTrue\u001b[0m \u001b[3;92mTrue\u001b[0m \u001b[33m...\u001b[0m \u001b[3;92mTrue\u001b[0m \u001b[3;92mTrue\u001b[0m \u001b[3;91mFalse\u001b[0m\u001b[1m]\u001b[0m\n"
      ]
     },
     "metadata": {},
     "output_type": "display_data"
    },
    {
     "data": {
      "text/html": [
       "<pre style=\"white-space:pre;overflow-x:auto;line-height:normal;font-family:Menlo,'DejaVu Sans Mono',consolas,'Courier New',monospace\"><span style=\"color: #800080; text-decoration-color: #800080; font-weight: bold\">len</span><span style=\"font-weight: bold\">(</span>results<span style=\"font-weight: bold\">[</span>:, <span style=\"color: #008080; text-decoration-color: #008080; font-weight: bold\">-1</span><span style=\"font-weight: bold\">])</span> <span style=\"font-weight: bold\">[</span><span style=\"color: #00ff00; text-decoration-color: #00ff00; font-style: italic\">True</span> <span style=\"color: #00ff00; text-decoration-color: #00ff00; font-style: italic\">True</span> <span style=\"color: #00ff00; text-decoration-color: #00ff00; font-style: italic\">True</span> <span style=\"color: #808000; text-decoration-color: #808000\">...</span> <span style=\"color: #00ff00; text-decoration-color: #00ff00; font-style: italic\">True</span> <span style=\"color: #00ff00; text-decoration-color: #00ff00; font-style: italic\">True</span> <span style=\"color: #ff0000; text-decoration-color: #ff0000; font-style: italic\">False</span><span style=\"font-weight: bold\">]</span>\n",
       "</pre>\n"
      ],
      "text/plain": [
       "\u001b[1;35mlen\u001b[0m\u001b[1m(\u001b[0mresults\u001b[1m[\u001b[0m:, \u001b[1;36m-1\u001b[0m\u001b[1m]\u001b[0m\u001b[1m)\u001b[0m \u001b[1m[\u001b[0m\u001b[3;92mTrue\u001b[0m \u001b[3;92mTrue\u001b[0m \u001b[3;92mTrue\u001b[0m \u001b[33m...\u001b[0m \u001b[3;92mTrue\u001b[0m \u001b[3;92mTrue\u001b[0m \u001b[3;91mFalse\u001b[0m\u001b[1m]\u001b[0m\n"
      ]
     },
     "metadata": {},
     "output_type": "display_data"
    },
    {
     "data": {
      "text/html": [
       "<pre style=\"white-space:pre;overflow-x:auto;line-height:normal;font-family:Menlo,'DejaVu Sans Mono',consolas,'Courier New',monospace\">acc <span style=\"color: #008080; text-decoration-color: #008080; font-weight: bold\">0.8445092322643343</span>\n",
       "</pre>\n"
      ],
      "text/plain": [
       "acc \u001b[1;36m0.8445092322643343\u001b[0m\n"
      ]
     },
     "metadata": {},
     "output_type": "display_data"
    }
   ],
   "source": [
    "results = np.array(results)\n",
    "print(\"results\", results[:, -1])\n",
    "print(\"len(results[:, -1])\", results[:, -1])\n",
    "acc = np.mean(results[:, -1])\n",
    "print(\"acc\", acc)"
   ]
  },
  {
   "cell_type": "markdown",
   "metadata": {},
   "source": [
    "## Results\n",
    "\n",
    "### experiment 1:\n",
    "match_threshold = 0.7\n",
    "decision: matches >= 10\n",
    "\n",
    "acc = 0.84 on seen_train\n",
    "\n"
   ]
  }
 ],
 "metadata": {
  "kernelspec": {
   "display_name": "device_reid",
   "language": "python",
   "name": "python3"
  },
  "language_info": {
   "codemirror_mode": {
    "name": "ipython",
    "version": 3
   },
   "file_extension": ".py",
   "mimetype": "text/x-python",
   "name": "python",
   "nbconvert_exporter": "python",
   "pygments_lexer": "ipython3",
   "version": "3.9.12"
  }
 },
 "nbformat": 4,
 "nbformat_minor": 2
}
